{
 "cells": [
  {
   "cell_type": "markdown",
   "metadata": {},
   "source": [
    "# Assignment 4-7\n",
    "### My Solution Step1"
   ]
  },
  {
   "cell_type": "code",
   "execution_count": 8,
   "metadata": {},
   "outputs": [
    {
     "data": {
      "text/plain": [
       "0.7023281401594511"
      ]
     },
     "execution_count": 8,
     "metadata": {},
     "output_type": "execute_result"
    }
   ],
   "source": [
    "class County:\n",
    "    def __init__(self, init_name, init_population, init_voters):\n",
    "        self.name = init_name\n",
    "        self.population = init_population\n",
    "        self.voters = init_voters\n",
    "\n",
    "#def highest_turnout(data) :\n",
    "    def turnout(self):\n",
    "        return self.voters / self.population\n",
    "    \n",
    "allegheny = County(\"allegheny\", 1000490, 645469)\n",
    "philadelphia = County(\"philadelphia\", 1134081, 539069)\n",
    "montgomery = County(\"montgomery\", 568952, 399591)\n",
    "lancaster = County(\"lancaster\", 345367, 230278)\n",
    "delaware = County(\"delaware\", 414031, 284538)\n",
    "chester = County(\"chester\", 319919, 230823)\n",
    "bucks = County(\"bucks\", 444149, 319816)\n",
    "data = [allegheny, philadelphia, montgomery, lancaster, delaware, chester, bucks]  \n",
    "\n",
    "montgomery.turnout()"
   ]
  },
  {
   "cell_type": "markdown",
   "metadata": {},
   "source": [
    "### My Solution Step2"
   ]
  },
  {
   "cell_type": "code",
   "execution_count": 2,
   "metadata": {},
   "outputs": [
    {
     "name": "stdout",
     "output_type": "stream",
     "text": [
      "(<__main__.County object at 0x00000232475301C8>, 0.7215045058280377)\n"
     ]
    }
   ],
   "source": [
    "class County:\n",
    "    def __init__(self, init_name, init_population, init_voters):\n",
    "        self.name = init_name\n",
    "        self.population = init_population\n",
    "        self.voters = init_voters\n",
    "\n",
    "# #def highest_turnout(data) :\n",
    "#     def turnout(self):\n",
    "#         return self.voters / self.population\n",
    "    \n",
    "def highest_turnout(data):\n",
    "    highest = 'dummy'\n",
    "    highest_turnout = 0\n",
    "    \n",
    "    for county in data:\n",
    "        if (county.voters/county.population) > highest_turnout:\n",
    "            highest = county\n",
    "            highest_turnout = (county.voters/county.population)\n",
    "    return (highest, highest_turnout)\n",
    "\n",
    "        \n",
    "        #highest_turnout = self.voters / self.population\n",
    "\n",
    "  # implement the function here\n",
    "\n",
    "  #  return # modify this as needed\n",
    "\n",
    "# your program will be evaluated using these objects \n",
    "# it is okay to change/remove these lines but your program\n",
    "# will be evaluated using these as inputs\n",
    "allegheny = County(\"allegheny\", 1000490, 645469)\n",
    "philadelphia = County(\"philadelphia\", 1134081, 539069)\n",
    "montgomery = County(\"montgomery\", 568952, 399591)\n",
    "lancaster = County(\"lancaster\", 345367, 230278)\n",
    "delaware = County(\"delaware\", 414031, 284538)\n",
    "chester = County(\"chester\", 319919, 230823)\n",
    "bucks = County(\"bucks\", 444149, 319816)\n",
    "data = [allegheny, philadelphia, montgomery, lancaster, delaware, chester, bucks]  \n",
    "\n",
    "result = highest_turnout(data) # do not change this line!\n",
    "print(result)"
   ]
  },
  {
   "cell_type": "markdown",
   "metadata": {},
   "source": [
    "### My Solution Final"
   ]
  },
  {
   "cell_type": "code",
   "execution_count": 3,
   "metadata": {},
   "outputs": [
    {
     "ename": "NameError",
     "evalue": "name 'init_name' is not defined",
     "output_type": "error",
     "traceback": [
      "\u001b[1;31m---------------------------------------------------------------------------\u001b[0m",
      "\u001b[1;31mNameError\u001b[0m                                 Traceback (most recent call last)",
      "\u001b[1;32m<ipython-input-3-48f6d6fc3378>\u001b[0m in \u001b[0;36m<module>\u001b[1;34m\u001b[0m\n\u001b[0;32m     23\u001b[0m \u001b[1;31m# it is okay to change/remove these lines but your program\u001b[0m\u001b[1;33m\u001b[0m\u001b[1;33m\u001b[0m\u001b[1;33m\u001b[0m\u001b[0m\n\u001b[0;32m     24\u001b[0m \u001b[1;31m# will be evaluated using these as inputs\u001b[0m\u001b[1;33m\u001b[0m\u001b[1;33m\u001b[0m\u001b[1;33m\u001b[0m\u001b[0m\n\u001b[1;32m---> 25\u001b[1;33m \u001b[0mallegheny\u001b[0m \u001b[1;33m=\u001b[0m \u001b[0mCounty\u001b[0m\u001b[1;33m(\u001b[0m\u001b[1;34m\"allegheny\"\u001b[0m\u001b[1;33m,\u001b[0m \u001b[1;36m1000490\u001b[0m\u001b[1;33m,\u001b[0m \u001b[1;36m645469\u001b[0m\u001b[1;33m)\u001b[0m\u001b[1;33m\u001b[0m\u001b[1;33m\u001b[0m\u001b[0m\n\u001b[0m\u001b[0;32m     26\u001b[0m \u001b[0mphiladelphia\u001b[0m \u001b[1;33m=\u001b[0m \u001b[0mCounty\u001b[0m\u001b[1;33m(\u001b[0m\u001b[1;34m\"philadelphia\"\u001b[0m\u001b[1;33m,\u001b[0m \u001b[1;36m1134081\u001b[0m\u001b[1;33m,\u001b[0m \u001b[1;36m539069\u001b[0m\u001b[1;33m)\u001b[0m\u001b[1;33m\u001b[0m\u001b[1;33m\u001b[0m\u001b[0m\n\u001b[0;32m     27\u001b[0m \u001b[0mmontgomery\u001b[0m \u001b[1;33m=\u001b[0m \u001b[0mCounty\u001b[0m\u001b[1;33m(\u001b[0m\u001b[1;34m\"montgomery\"\u001b[0m\u001b[1;33m,\u001b[0m \u001b[1;36m568952\u001b[0m\u001b[1;33m,\u001b[0m \u001b[1;36m399591\u001b[0m\u001b[1;33m)\u001b[0m\u001b[1;33m\u001b[0m\u001b[1;33m\u001b[0m\u001b[0m\n",
      "\u001b[1;32m<ipython-input-3-48f6d6fc3378>\u001b[0m in \u001b[0;36m__init__\u001b[1;34m(self, name, population, init_voters)\u001b[0m\n\u001b[0;32m      2\u001b[0m     \u001b[1;31m# line below class (class_name) is called *constructor*\u001b[0m\u001b[1;33m\u001b[0m\u001b[1;33m\u001b[0m\u001b[1;33m\u001b[0m\u001b[0m\n\u001b[0;32m      3\u001b[0m     \u001b[1;32mdef\u001b[0m \u001b[0m__init__\u001b[0m\u001b[1;33m(\u001b[0m\u001b[0mself\u001b[0m\u001b[1;33m,\u001b[0m \u001b[0mname\u001b[0m\u001b[1;33m,\u001b[0m \u001b[0mpopulation\u001b[0m\u001b[1;33m,\u001b[0m \u001b[0minit_voters\u001b[0m\u001b[1;33m)\u001b[0m\u001b[1;33m:\u001b[0m\u001b[1;33m\u001b[0m\u001b[1;33m\u001b[0m\u001b[0m\n\u001b[1;32m----> 4\u001b[1;33m         \u001b[0mself\u001b[0m\u001b[1;33m.\u001b[0m\u001b[0mname\u001b[0m \u001b[1;33m=\u001b[0m \u001b[0minit_name\u001b[0m\u001b[1;33m\u001b[0m\u001b[1;33m\u001b[0m\u001b[0m\n\u001b[0m\u001b[0;32m      5\u001b[0m         \u001b[0mself\u001b[0m\u001b[1;33m.\u001b[0m\u001b[0mpopulation\u001b[0m \u001b[1;33m=\u001b[0m \u001b[0minit_population\u001b[0m\u001b[1;33m\u001b[0m\u001b[1;33m\u001b[0m\u001b[0m\n\u001b[0;32m      6\u001b[0m         \u001b[0mself\u001b[0m\u001b[1;33m.\u001b[0m\u001b[0mvoters\u001b[0m \u001b[1;33m=\u001b[0m \u001b[0minit_voters\u001b[0m\u001b[1;33m\u001b[0m\u001b[1;33m\u001b[0m\u001b[0m\n",
      "\u001b[1;31mNameError\u001b[0m: name 'init_name' is not defined"
     ]
    }
   ],
   "source": [
    "class County:\n",
    "    # line below class (class_name) is called *constructor*\n",
    "    def __init__(self, name, population, init_voters):\n",
    "        self.name = init_name\n",
    "        self.population = init_population\n",
    "        self.voters = init_voters\n",
    "    \n",
    "def highest_turnout(data):\n",
    "    highest = 'dummy'\n",
    "    highest_turnout = 0\n",
    "    \n",
    "    for county in data:\n",
    "        if (county.voters/county.population) > highest_turnout:\n",
    "            highest = county.name\n",
    "            highest_turnout = (county.voters/county.population)\n",
    "    return highest, highest_turnout\n",
    "        \n",
    "  # implement the function here\n",
    "\n",
    "  #  return # modify this as needed\n",
    "\n",
    "# your program will be evaluated using these objects \n",
    "# it is okay to change/remove these lines but your program\n",
    "# will be evaluated using these as inputs\n",
    "allegheny = County(\"allegheny\", 1000490, 645469)\n",
    "philadelphia = County(\"philadelphia\", 1134081, 539069)\n",
    "montgomery = County(\"montgomery\", 568952, 399591)\n",
    "lancaster = County(\"lancaster\", 345367, 230278)\n",
    "delaware = County(\"delaware\", 414031, 284538)\n",
    "chester = County(\"chester\", 319919, 230823)\n",
    "bucks = County(\"bucks\", 444149, 319816)\n",
    "\n",
    "data = [allegheny, philadelphia, montgomery, lancaster, delaware, chester, bucks]  \n",
    "\n",
    "result = highest_turnout(data) # do not change this line!\n",
    "print(result)"
   ]
  },
  {
   "cell_type": "markdown",
   "metadata": {},
   "source": [
    "### UPenn's Solution"
   ]
  },
  {
   "cell_type": "code",
   "execution_count": 4,
   "metadata": {},
   "outputs": [
    {
     "name": "stdout",
     "output_type": "stream",
     "text": [
      "('chester', 0.7215045058280377)\n"
     ]
    }
   ],
   "source": [
    "class County:\n",
    "    # line below class (class_name) is called *constructor*\n",
    "    def __init__(self, name, population, voters):\n",
    "        self.name = name\n",
    "        self.population = population\n",
    "        self.voters = voters\n",
    "    \n",
    "def highest_turnout(data):\n",
    "    highest = data[0].name\n",
    "    highest_turnout = data[0].voters / data[0].population\n",
    "    \n",
    "    for county in data:\n",
    "        turnout = county.voters / county.population\n",
    "        if turnout > highest_turnout:\n",
    "            highest_turnout = turnout\n",
    "            highest = county.name\n",
    "    \n",
    "    return highest, highest_turnout\n",
    "        \n",
    "  # implement the function here\n",
    "\n",
    "  #  return # modify this as needed\n",
    "\n",
    "# your program will be evaluated using these objects \n",
    "# it is okay to change/remove these lines but your program\n",
    "# will be evaluated using these as inputs\n",
    "allegheny = County(\"allegheny\", 1000490, 645469)\n",
    "philadelphia = County(\"philadelphia\", 1134081, 539069)\n",
    "montgomery = County(\"montgomery\", 568952, 399591)\n",
    "lancaster = County(\"lancaster\", 345367, 230278)\n",
    "delaware = County(\"delaware\", 414031, 284538)\n",
    "chester = County(\"chester\", 319919, 230823)\n",
    "bucks = County(\"bucks\", 444149, 319816)\n",
    "\n",
    "data = [allegheny, philadelphia, montgomery, lancaster, delaware, chester, bucks]  \n",
    "\n",
    "result = highest_turnout(data) # do not change this line!\n",
    "print(result)"
   ]
  },
  {
   "cell_type": "markdown",
   "metadata": {},
   "source": [
    "# Assignment 4.8\n",
    "### Sample Code - Scheduling"
   ]
  },
  {
   "cell_type": "code",
   "execution_count": null,
   "metadata": {},
   "outputs": [],
   "source": [
    "# represents a meeting request\n",
    "class Request:\n",
    "    def __init__(self, input_name, input_start, input_end):\n",
    "        self.name = input_name\n",
    "        self.start = input_start\n",
    "        self.end = input_end\n",
    "\n",
    "# create requests\n",
    "r1 = Request ('A',0,3)\n",
    "r2 = Request ('B',2,4)\n",
    "r3 = Request ('C',1,5)\n",
    "r4 = Request ('D',3,6)\n",
    "r5 = Request ('E',6,7)\n",
    "r6 = Request ('F',5,8)\n",
    "r7 = Request ('G',7,9)\n",
    "\n",
    "requests = [r1, r2, r3, r4, r5, r6, r7]\n",
    "\n",
    "scheduled_requests = [] #initialize\n",
    "\n",
    "while len(requests) > 0:\n",
    "    # schedule the one with the earliest ending time\n",
    "    earliest = requests[0]\n",
    "    earliest_end = requests[0].end\n",
    "    for request in requests:\n",
    "        if request.end < earliest_end:\n",
    "            earliest = request\n",
    "            earliest_end = request.end\n",
    "    print(\"scheduling\", earliest.name)\n",
    "    scheduled_requests.append(earliest)\n",
    "    \n",
    "    # remove all the request with start time before the ending time\n",
    "    unscheduled = list(requests) # make a copy of the requests list\n",
    "    for request in requests:\n",
    "        if request.start < earliest.end:\n",
    "            unscheduled.remove(request)\n",
    "    requests = unscheduled\n",
    "\n",
    "    # now scheduled_requests holds all scheduled requests"
   ]
  },
  {
   "cell_type": "markdown",
   "metadata": {},
   "source": [
    "### Sample Code - Predicting Dog's suitability for S&R program"
   ]
  },
  {
   "cell_type": "code",
   "execution_count": null,
   "metadata": {},
   "outputs": [],
   "source": [
    "# this class represents a dog\n",
    "class Dog:\n",
    "    # we initialize a dog with three test results\n",
    "    # and whether we know it is suitable as a S&R dog\n",
    "    def __init__(self, input_test1, input_test2, input_test3, input_suitable = None):\n",
    "        # we don't have input_suitable yet, so we set it as None\n",
    "        self.catwalk_test = input_test1\n",
    "        self.surface_test = input_test2\n",
    "        self.conflict_test = input_test3\n",
    "        self.suitable = input_suitable\n",
    "\n",
    "# create some dogs!\n",
    "all_dogs = []\n",
    "all_dogs.append(Dog(True,False,True,True))\n",
    "all_dogs.append(Dog(False,False,True,False))\n",
    "all_dogs.append(Dog(True,True,True,True))\n",
    "all_dogs.append(Dog(True,False,True,False))\n",
    "\n",
    "new_dog = Dog (True, False, False)\n",
    "\n",
    "# determine similarity to all other dogs\n",
    "for dog in all_dogs:\n",
    "    dog.similarity = 0 #assign a similarity attribute\n",
    "    # in Python, you can create a object even after creating a class\n",
    "    if dog.catwalk_test == new_dog.catwalk_test:\n",
    "        dog.similarity +=1\n",
    "    if dog.surface_test == new_dog.surface_test:\n",
    "        dog.similarity +=1\n",
    "    if dog.conflict_test == new_dog.conflict_test:\n",
    "        dog.similarity +=1\n",
    "\n",
    "# find three most similar dogs\n",
    "similar_dogs = []\n",
    "# loop three times\n",
    "for i in range (3):\n",
    "    most_similar_dog = all_dogs[0]\n",
    "    max_similarity = all_dogs[0].similarity\n",
    "    for dog in all_dogs:\n",
    "        if dog.similarity > max_similarity:\n",
    "            max_similarity = dog.similarity\n",
    "            most_similardog = dog\n",
    "    similar_dogs.append(most_similar_dog)\n",
    "    all_dogs.remove(most_similar_dog) # so that we don't consider it more than once\n",
    "    \n",
    "vote = 0\n",
    "for dog in similar_dogs:\n",
    "    if dog.suitable:\n",
    "        vote += 1\n",
    "\n",
    "if vote >=2:\n",
    "    print(\"prediction: suitable!\")\n",
    "else:\n",
    "    print(\"prediction: not suitable\")"
   ]
  },
  {
   "cell_type": "markdown",
   "metadata": {},
   "source": [
    "## Project"
   ]
  },
  {
   "attachments": {
    "image.png": {
     "image/png": "[encoded data removed]"
    }
   },
   "cell_type": "markdown",
   "metadata": {},
   "source": [
    "![image.png](attachment:image.png)"
   ]
  },
  {
   "cell_type": "markdown",
   "metadata": {},
   "source": [
    "* Thesaurus , which is a list of Entry objects; \n",
    "    * each Entry object has a word attribute, which is a string of characters\n",
    "    * each Entry object also has an attribute called synonyms , which is a list of strings\n",
    "* Corpus , which is a list of lists of strings"
   ]
  },
  {
   "cell_type": "code",
   "execution_count": null,
   "metadata": {},
   "outputs": [],
   "source": [
    "class Entry :\n",
    "    def __init__(self, input_word, input_synonyms) :\n",
    "        self.word = input_word\n",
    "        self.synonyms = input_synonyms\n",
    "        \n",
    "e1 = Entry(\"dog\", [\"doggie\", \"puppy\"])\n",
    "e2 = Entry(\"cat\", [\"kitty\"])\n",
    "Thesaurus = [e1, e2]\n",
    "\n",
    "doc1 = [“this”, “is”, “a”, “single”, “document”]\n",
    "doc2 = [“here”, “is”, “another”, “document”]\n",
    "Corpus = [doc1, doc2]"
   ]
  },
  {
   "cell_type": "markdown",
   "metadata": {},
   "source": [
    "* Output shoudl be a list of tuples (word, total number of occurance)\n",
    "* If the keyword was \"cat\" and occured 120 times, and its synonym was \"kitty\" and it occured 84 times out put is\n",
    "    * [(\"cat\",120,(\"kitty\",84)]\n",
    "    * you can create a tuple variable like: result(\"cat\",120), then add to the list using 'append'\n",
    "* The Thesaurus is not empty and Corpus is not empty\n",
    "* Each document contains at least one string\n",
    "* Evaluated using \"happy\" and \"sad\" for the Thesaurus and Corpus"
   ]
  },
  {
   "cell_type": "markdown",
   "metadata": {},
   "source": [
    "### Step1: Get a tuple for the keyword itself"
   ]
  },
  {
   "cell_type": "code",
   "execution_count": null,
   "metadata": {},
   "outputs": [],
   "source": [
    "def search(keyword):\n",
    "    result = []\n",
    "    counter = 0\n",
    "    for i in range(len(Corpus)):\n",
    "        for word in Corpus[i]:\n",
    "            if word == keyword:\n",
    "                counter += 1\n",
    "    result.append(tuple((keyword,counter)))\n",
    "    return result\n",
    "\n",
    "input = \"happy\"\n",
    "output = search(input)\n",
    "print(output)"
   ]
  },
  {
   "cell_type": "markdown",
   "metadata": {},
   "source": [
    "### Step2: Repeat the process for the whole thesaurus"
   ]
  },
  {
   "cell_type": "code",
   "execution_count": null,
   "metadata": {},
   "outputs": [],
   "source": [
    "# Gives keyword and counter for one keyword\n",
    "\n",
    "def search(keyword):\n",
    "    result = []\n",
    "    for synonym in keyword.\n",
    "    \n",
    "    #counter = 0\n",
    "    #for i in range(len(Corpus)):\n",
    "    #    for word in Corpus[i]:\n",
    "    #        if word == keyword:\n",
    "    #            counter += 1\n",
    "    result.append(tuple((keyword,counter)))\n",
    "    return result\n",
    "\n",
    "input = \"happy\"\n",
    "output = search(input)\n",
    "print(output)"
   ]
  },
  {
   "cell_type": "code",
   "execution_count": null,
   "metadata": {},
   "outputs": [],
   "source": [
    "search_words = [\"happy\"]\n",
    "\n",
    "search_words.append('list')\n",
    "\n",
    "search_words"
   ]
  },
  {
   "cell_type": "code",
   "execution_count": null,
   "metadata": {},
   "outputs": [],
   "source": [
    "def search(keyword):\n",
    "\n",
    "    for synonym in keyword.synonyms:\n",
    "        synonyms.append(synonym)\n",
    "    return synonyms"
   ]
  },
  {
   "cell_type": "code",
   "execution_count": null,
   "metadata": {},
   "outputs": [],
   "source": [
    "def search(keyword):\n",
    "\n",
    "    for synonym in keyword.synonyms:\n",
    "        synonyms.append(synonym)\n",
    "    return synonyms\n",
    "\n",
    "input = \"happy\"\n",
    "output = search(input) # invoke the method using a test input\n",
    "print(output) # prints the output of the function\n",
    "# do not remove this line!"
   ]
  },
  {
   "cell_type": "code",
   "execution_count": null,
   "metadata": {},
   "outputs": [],
   "source": [
    "result = list(happy.synonyms)\n",
    "\n",
    "result\n"
   ]
  },
  {
   "cell_type": "code",
   "execution_count": null,
   "metadata": {},
   "outputs": [],
   "source": [
    "def search(keyword):\n",
    "    # first part is doing the count of keyword itself\n",
    "    result = []\n",
    "    counter = 0\n",
    "    for i in range(len(Corpus)):\n",
    "        for word in Corpus[i]:\n",
    "            if word == keyword:\n",
    "                counter += 1\n",
    "    result.append(tuple((keyword,counter)))\n",
    "    \n",
    "    counter = 0\n",
    "    \n",
    "    # second part is doing the count for each synonym\n",
    "    synonym_list = list(keyword.synonyms)\n",
    "\n",
    "    for synonym in synonym_list:\n",
    "        counter = 0\n",
    "        for i in range(len(Corpus)):\n",
    "            for word in Corpus[i]:\n",
    "                if word == synonym:\n",
    "                    counter += 1\n",
    "    result.append(tuple((synonym, counter)))\n",
    "   \n",
    "    return result\n",
    "\n",
    "input = \"happy\"\n",
    "output = search(input) # invoke the method using a test input\n",
    "print(output) # prints the output of the function\n"
   ]
  },
  {
   "cell_type": "code",
   "execution_count": null,
   "metadata": {},
   "outputs": [],
   "source": [
    "def search(keyword) :\n",
    "    # part 1 create a word list\n",
    "    list_of_keywords = []\n",
    "    list_of_keywords.append(keyword,)\n",
    "\n",
    "   \n",
    "    for entry in Thesaurus:\n",
    "        if entry.word == keyword:\n",
    "            list_of_keywords.append(entry.synonyms)\n",
    "\n",
    "    # part 2 counter\n",
    "    result = []\n",
    "    \n",
    "    for synonym in list_of_keywords:\n",
    "        counter = 0\n",
    "        for i in range(len(Corpus)):\n",
    "            for word in Corpus[i]:\n",
    "                if word == synonym:\n",
    "                    counter += 1\n",
    "        result.append((synonym, counter))\n",
    "\n",
    "    return result # modify to return a list of tuples\n",
    "\n",
    "input = \"happy\"\n",
    "output = search(input) # invoke the method using a test input\n",
    "print(output) # prints the output of the function\n",
    "# do not remove this line!"
   ]
  },
  {
   "attachments": {
    "image.png": {
     "image/png": "[encoded data removed]"
    }
   },
   "cell_type": "markdown",
   "metadata": {},
   "source": [
    "Below is result\n",
    "1. Check proper way of creating a word list so that input and all synonyms are included\n",
    "2. play around with result.append((synonym,counter)) until you get the right result\n",
    "\n",
    "For reference, below is the current result\n",
    "\n",
    "![image.png](attachment:image.png)"
   ]
  },
  {
   "cell_type": "code",
   "execution_count": null,
   "metadata": {},
   "outputs": [],
   "source": [
    "class Entry:\n",
    "    def __init__(self,word,synonyms):\n",
    "        self.word = word\n",
    "        self.synonyms = synonyms\n",
    "\n",
    "happy = Entry(\"happy\",['glad','pleased','delighted','joyous'])\n",
    "\n",
    "Thesaurus = [happy]\n",
    "\n",
    "Corpus = [['you', 'bet', 'i', 'am', 'angry'], ['i', 'am', 'angry', 'with', 'her'], ['i', 'know', 'you', 'are', 'angry'], ['i', 'was', 'angry', 'at', 'myself'], ['i', 'get', 'angry', 'when', 'i', 'am', 'hungry'], ['i', 'was', 'happy', 'when', 'i', 'was', 'able', 'to', 'complete', 'that', 'level', 'in', 'angry', 'birds'], ['that', 'made', 'me', 'so', 'mad'], ['i', 'am', 'sorry', 'i', 'got', 'mad'], ['i', 'am', 'not', 'mad', 'anymore'], ['i', 'cannot', 'stay', 'mad', 'at', 'you'], ['i', 'got', 'pretty', 'annoyed', 'with', 'how', 'happy', 'she', 'seemed', 'about', 'the', 'news'], ['it', 'has', 'been', 'a', 'difficult', 'week', 'and', 'i', 'cannot', 'say', 'i', 'am', 'sad', 'that', 'it', 'is', 'over'], ['i', 'am', 'sad', 'to', 'see', 'you', 'go'], ['the', 'ending', 'of', 'that', 'movie', 'made', 'me', 'really', 'sad'], ['i', 'was', 'pretty', 'sad', 'when', 'we', 'moved', 'to', 'our', 'new', 'apartment'], ['i', 'am', 'still', 'upset', 'about', 'what', 'happened', 'last', 'night'], ['i', 'got', 'really', 'depressed', 'thinking', 'about', 'their', 'break-up', 'but', 'i', 'know', 'it', 'was', 'for', 'the', 'best', 'and', 'i', 'suppose', 'i', 'am', 'happy', 'for', 'them'], ['you', 'make', 'me', 'happy'], ['i', 'am', 'in', 'my', 'happy', 'place', 'now'], ['i', 'can', 'die', 'happy', 'now'], ['i', 'was', 'so', 'happy'], ['i', 'am', 'happy', 'that', 'the', 'weekend', 'is', 'finally', 'here'], ['i', 'am', 'always', 'happy', 'to', 'help'], ['i', 'was', 'pretty', 'upset', 'to', 'hear', 'that', 'news', 'but', 'then', 'i', 'realized', 'that', 'i', 'just', 'want', 'her', 'to', 'be', 'happy'], ['i', 'am', 'perfectly', 'happy', 'right', 'where', 'i', 'am'], ['we', 'are', 'just', 'one', 'big', 'happy', 'family'], ['i', 'am', 'really', 'not', 'too', 'happy', 'about', 'how', 'angry', 'she', 'became'], ['a', 'hug', 'from', 'you', 'would', 'make', 'me', 'happy'], ['i', 'am', 'glad', 'you', 'came', 'to', 'this', 'party', 'it', 'is', 'really', 'nice', 'to', 'see', 'you'], ['i', 'am', 'so', 'glad', 'that', 'is', 'over'], ['i', 'was', 'delighted', 'that', 'my', 'sister', 'was', 'able', 'to', 'come', 'visit', 'us', 'for', 'the', 'holiday'], ['i', 'was', 'pleased', 'with', 'the', 'result', 'but', 'not', 'as', 'happy', 'as', 'my', 'cousin', 'was'], ['it', 'was', 'a', 'fairly', 'joyous', 'occasion', 'and', 'i', 'could', 'see', 'how', 'delighted', 'my', 'niece', 'was', 'to', 'receive', 'so', 'many', 'gifts'], ['i', 'try', 'not', 'to', 'get', 'too', 'depressed', 'when', 'i', 'think', 'about', 'the', 'past', 'but', 'i', 'was', 'so', 'happy', 'back', 'then'], ['it', 'really', 'pleased', 'me', 'to', 'know', 'that', 'she', 'found', 'a', 'new', 'job']]"
   ]
  },
  {
   "cell_type": "code",
   "execution_count": null,
   "metadata": {},
   "outputs": [],
   "source": [
    "happy.synonyms"
   ]
  },
  {
   "cell_type": "code",
   "execution_count": null,
   "metadata": {},
   "outputs": [],
   "source": [
    "def search(keyword) :\n",
    "    # part 1 create a word list\n",
    "   \n",
    "    for entry in Thesaurus:\n",
    "        if entry.word == keyword:\n",
    "            list_of_keywords = entry.synonyms\n",
    "            list_of_keywords.insert(0,keyword)\n",
    "    \n",
    "    #return list_of_keywords # modify to return a list of tuples\n",
    "\n",
    "    # part 2 counter\n",
    "    result = []\n",
    "    \n",
    "    for entry in list_of_keywords:\n",
    "        counter = 0\n",
    "        for i in range(len(Corpus)):\n",
    "            for word in Corpus[i]:\n",
    "                if word == entry:\n",
    "                    counter += 1\n",
    "        result.append((entry, counter))\n",
    "    return result\n",
    "\n",
    "input = \"happy\"\n",
    "output = search(input) # invoke the method using a test input\n",
    "print(output) # prints the output of the function\n",
    "# do not remove this line!"
   ]
  },
  {
   "cell_type": "code",
   "execution_count": null,
   "metadata": {},
   "outputs": [],
   "source": [
    "def search(keyword) :\n",
    "    all_words = [keyword]\n",
    "    for entry in Thesaurus :\n",
    "        if entry.word == keyword :\n",
    "            for word in entry.synonyms :\n",
    "                all_words.append(word)\n",
    "            break\n",
    "\n",
    "    output = []\n",
    "\n",
    "    for searchword in all_words :\n",
    "        counter = 0\n",
    "        for document in Corpus :\n",
    "            for word in document :\n",
    "                if word == searchword :\n",
    "                    counter += 1\n",
    "        result = (searchword, counter)\n",
    "        output.append(result)\n",
    "\n",
    "    return output\n",
    "    \n",
    "print(search(\"happy\"))"
   ]
  },
  {
   "cell_type": "code",
   "execution_count": null,
   "metadata": {},
   "outputs": [],
   "source": []
  }
 ],
 "metadata": {
  "kernelspec": {
   "display_name": "Python 3",
   "language": "python",
   "name": "python3"
  },
  "language_info": {
   "codemirror_mode": {
    "name": "ipython",
    "version": 3
   },
   "file_extension": ".py",
   "mimetype": "text/x-python",
   "name": "python",
   "nbconvert_exporter": "python",
   "pygments_lexer": "ipython3",
   "version": "3.7.6"
  }
 },
 "nbformat": 4,
 "nbformat_minor": 4
}
